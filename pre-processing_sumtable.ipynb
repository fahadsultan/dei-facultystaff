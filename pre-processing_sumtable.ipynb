{
 "cells": [
  {
   "cell_type": "code",
   "execution_count": 1,
   "metadata": {},
   "outputs": [
    {
     "name": "stderr",
     "output_type": "stream",
     "text": [
      "/var/folders/c4/qy50h61x069887_6qkp4f7880000gp/T/ipykernel_35202/3969421123.py:8: DtypeWarning: Columns (0) have mixed types. Specify dtype option on import or set low_memory=False.\n",
      "  df      = pd.read_csv(fname, skiprows=4)\n",
      "/var/folders/c4/qy50h61x069887_6qkp4f7880000gp/T/ipykernel_35202/3969421123.py:8: DtypeWarning: Columns (0) have mixed types. Specify dtype option on import or set low_memory=False.\n",
      "  df      = pd.read_csv(fname, skiprows=4)\n",
      "/var/folders/c4/qy50h61x069887_6qkp4f7880000gp/T/ipykernel_35202/3969421123.py:8: DtypeWarning: Columns (0) have mixed types. Specify dtype option on import or set low_memory=False.\n",
      "  df      = pd.read_csv(fname, skiprows=4)\n",
      "/var/folders/c4/qy50h61x069887_6qkp4f7880000gp/T/ipykernel_35202/3969421123.py:8: DtypeWarning: Columns (0) have mixed types. Specify dtype option on import or set low_memory=False.\n",
      "  df      = pd.read_csv(fname, skiprows=4)\n",
      "/var/folders/c4/qy50h61x069887_6qkp4f7880000gp/T/ipykernel_35202/3969421123.py:8: DtypeWarning: Columns (0) have mixed types. Specify dtype option on import or set low_memory=False.\n",
      "  df      = pd.read_csv(fname, skiprows=4)\n",
      "/var/folders/c4/qy50h61x069887_6qkp4f7880000gp/T/ipykernel_35202/3969421123.py:8: DtypeWarning: Columns (0) have mixed types. Specify dtype option on import or set low_memory=False.\n",
      "  df      = pd.read_csv(fname, skiprows=4)\n",
      "/var/folders/c4/qy50h61x069887_6qkp4f7880000gp/T/ipykernel_35202/3969421123.py:8: DtypeWarning: Columns (0) have mixed types. Specify dtype option on import or set low_memory=False.\n",
      "  df      = pd.read_csv(fname, skiprows=4)\n",
      "/var/folders/c4/qy50h61x069887_6qkp4f7880000gp/T/ipykernel_35202/3969421123.py:8: DtypeWarning: Columns (0) have mixed types. Specify dtype option on import or set low_memory=False.\n",
      "  df      = pd.read_csv(fname, skiprows=4)\n"
     ]
    }
   ],
   "source": [
    "from glob import glob\n",
    "import pandas as pd\n",
    "fnames = glob('staff_data/*.csv')\n",
    "all_df = []\n",
    "year = 2015\n",
    "for fname in fnames: \n",
    "    # year    = int(fname[5:-4])\n",
    "    df      = pd.read_csv(fname, skiprows=4)\n",
    "    df      = df[(df['Occupation'] == 'Instruction')]\n",
    "    df      = df[df['Total'] != 0]\n",
    "    df      = df[df['Total'] != '-']   \n",
    "    df      = df.rename(columns={'Institution name (N=6,084)':'Institution'})\n",
    "    df['Year'] = year\n",
    "    year+=1\n",
    "    all_df.append(df)\n",
    "bigdf = pd.concat(all_df)\n",
    "bigdf.to_csv(\"occ_race_df.csv\")"
   ]
  },
  {
   "cell_type": "code",
   "execution_count": 5,
   "metadata": {},
   "outputs": [],
   "source": [
    "\n",
    "new = pd.read_csv('occ_race_df.csv')\n",
    "\n",
    "\n",
    "total = new[new['Gender']== 'Total']\n",
    "\n",
    "total.reset_index(inplace= True)\n",
    "total = total.rename(columns={\"Total\":\"Grand Total\"})\n",
    "total = total.rename(columns={\"American Indian or Alaska Native \":\"American Indian or Alaska Native total\"})\n",
    "total = total.rename(columns={\"Asian\":\"Asian total\"})\n",
    "total = total.rename(columns={\"Black or African American\":\"Black or African American total\"})\n",
    "total = total.rename(columns={\"Hispanic or Latino\" : \"Hispanic or Latino total\"})\n",
    "total = total.rename(columns={\"Native Hawaiian or Other Pacific Islander\":\"Native Hawaiian or Other Pacific Islander total\"})\n",
    "total = total.rename(columns={\"White\":\"White total\"})\n",
    "total = total.rename(columns={\"Race/ethnicity unknown\":\"Race/ethnicity unknown total\"})\n",
    "total = total.rename(columns={\"Nonresident alien\":\"Nonresident alien total\"})\n",
    "\n",
    "unit = total[\"Unit Id\"]\n",
    "inst = total[\"Institution\"]\n",
    "occt = total[\"Occupation\"]\n",
    "tott = total[\"Grand Total\"]\n",
    "amt  = total[\"American Indian or Alaska Native total\"]\n",
    "asit = total[\"Asian total\"]\n",
    "blat  = total[\"Black or African American total\"]\n",
    "hispt = total[\"Hispanic or Latino total\"]\n",
    "natt  = total[\"Native Hawaiian or Other Pacific Islander total\"]\n",
    "whit = total[\"White total\"]\n",
    "unkt = total[\"Race/ethnicity unknown total\"]\n",
    "nonrt = total[\"Nonresident alien total\"]\n",
    "\n",
    "men = new[new['Gender']== 'Men']\n",
    "men.reset_index(inplace= True)\n",
    "men = men.rename(columns={\"Total\":\"Grand Total men\"})\n",
    "men = men.rename(columns={\"White\":\"White men\"})\n",
    "men = men.rename(columns={\"American Indian or Alaska Native \":\"American Indian or Alaska Native men\"})\n",
    "men = men.rename(columns={\"Asian\":\"Asian men\"})\n",
    "men = men.rename(columns={\"Black or African American\":\"Black or African American men\"})\n",
    "men = men.rename(columns={\"Hispanic or Latino\" : \"Hispanic or Latino men\"})\n",
    "men = men.rename(columns={\"Native Hawaiian or Other Pacific Islander\":\"Native Hawaiian or Other Pacific Islander men\"})\n",
    "men = men.rename(columns={\"White\":\"White men\"})\n",
    "men = men.rename(columns={\"Race/ethnicity unknown\":\"Race/ethnicity unknown men\"})\n",
    "men = men.rename(columns={\"Nonresident alien\":\"Nonresident alien men\"})\n",
    "\n",
    "totm = men[\"Grand Total men\"]\n",
    "amm  = men[\"American Indian or Alaska Native men\"]\n",
    "asim = men[\"Asian men\"]\n",
    "blam  = men[\"Black or African American men\"]\n",
    "hispm  = men[\"Hispanic or Latino men\"]\n",
    "natm  = men[\"Native Hawaiian or Other Pacific Islander men\"]\n",
    "whim  = men[\"White men\"]\n",
    "unkm  = men[\"Race/ethnicity unknown men\"]\n",
    "nonrm = men[\"Nonresident alien men\"]\n",
    "\n",
    "women = new[new['Gender']== 'Women']\n",
    "women.reset_index(inplace= True)\n",
    "women = women.rename(columns={\"Total\":\"Grand total women\"})\n",
    "women = women.rename(columns={\"American Indian or Alaska Native \":\"American Indian or Alaska Native women\"})\n",
    "women = women.rename(columns={\"Asian\":\"Asian women\"})\n",
    "women = women.rename(columns={\"Black or African American\":\"Black or African American women\"})\n",
    "women = women.rename(columns={\"Hispanic or Latino\" : \"Hispanic or Latino women\"})\n",
    "women = women.rename(columns={\"Native Hawaiian or Other Pacific Islander\":\"Native Hawaiian or Other Pacific Islander women\"})\n",
    "women = women.rename(columns={\"White\":\"White women\"})\n",
    "women = women.rename(columns={\"Race/ethnicity unknown\":\"Race/ethnicity unknown women\"})\n",
    "women = women.rename(columns={\"Nonresident alien\":\"Nonresident alien women\"})\n",
    "\n",
    "totw = women[\"Grand total women\"]\n",
    "amw   = women[\"American Indian or Alaska Native women\"]\n",
    "asiw  = women[\"Asian women\"]\n",
    "blaw  = women[\"Black or African American women\"]\n",
    "hispw  = women[\"Hispanic or Latino women\"]\n",
    "natw  = women[\"Native Hawaiian or Other Pacific Islander women\"]\n",
    "whiw  = women[\"White women\"]\n",
    "unkw  = women[\"Race/ethnicity unknown women\"]\n",
    "nonrw = women[\"Nonresident alien women\"]\n",
    "yearw = women[\"Year\"]\n",
    "\n",
    "tmerged = pd.merge(unit, inst, left_index = True, right_index = True)\n",
    "tmerged = pd.merge(tmerged, occt, left_index = True, right_index = True)\n",
    "tmerged = pd.merge(tmerged, tott, left_index = True, right_index = True)\n",
    "tmerged = pd.merge(tmerged, amt, left_index = True, right_index = True)\n",
    "tmerged = pd.merge(tmerged, asit, left_index = True, right_index = True)\n",
    "tmerged = pd.merge(tmerged, blat, left_index = True, right_index = True)\n",
    "tmerged = pd.merge(tmerged, hispt, left_index = True, right_index = True)\n",
    "tmerged = pd.merge(tmerged, natt, left_index = True, right_index = True)\n",
    "tmerged = pd.merge(tmerged, whit, left_index = True, right_index = True)\n",
    "tmerged = pd.merge(tmerged, unkt, left_index = True, right_index = True)\n",
    "tmerged = pd.merge(tmerged, nonrt, left_index = True, right_index = True)\n",
    "\n",
    "mmerged = pd.merge(totm, amm, left_index = True, right_index = True)\n",
    "mmerged = pd.merge(mmerged, asim, left_index = True, right_index = True)\n",
    "mmerged = pd.merge(mmerged, blam, left_index = True, right_index = True)\n",
    "mmerged = pd.merge(mmerged, hispm, left_index = True, right_index = True)\n",
    "mmerged = pd.merge(mmerged, natm, left_index = True, right_index = True)\n",
    "mmerged = pd.merge(mmerged, whim, left_index = True, right_index = True)\n",
    "mmerged = pd.merge(mmerged, unkm, left_index = True, right_index = True)\n",
    "mmerged = pd.merge(mmerged, nonrm, left_index = True, right_index = True)\n",
    "\n",
    "wmerged = pd.merge(totw, amw, left_index = True, right_index = True)\n",
    "wmerged = pd.merge(wmerged, asiw, left_index = True, right_index = True)\n",
    "wmerged = pd.merge(wmerged, blaw, left_index = True, right_index = True)\n",
    "wmerged = pd.merge(wmerged, hispw, left_index = True, right_index = True)\n",
    "wmerged = pd.merge(wmerged, natw, left_index = True, right_index = True)\n",
    "wmerged = pd.merge(wmerged, whiw, left_index = True, right_index = True)\n",
    "wmerged = pd.merge(wmerged, unkw, left_index = True, right_index = True)\n",
    "wmerged = pd.merge(wmerged, nonrw, left_index = True, right_index = True)\n",
    "wmerged = pd.merge(wmerged, yearw, left_index = True, right_index = True)\n",
    "merged  =  pd.merge(tmerged, mmerged, left_index = True, right_index = True)\n",
    "merged  =  pd.merge(merged, wmerged, left_index = True, right_index = True)"
   ]
  },
  {
   "cell_type": "code",
   "execution_count": 10,
   "metadata": {},
   "outputs": [
    {
     "data": {
      "text/plain": [
       "Index(['Institution Men', 'Occupation Men', 'Gender Men', 'Total Men',\n",
       "       'American Indian or Alaska Native  Men', 'Asian Men',\n",
       "       'Black or African American Men', 'Hispanic or Latino Men',\n",
       "       'Native Hawaiian or Other Pacific Islander Men', 'White Men',\n",
       "       'Two or more races Men', 'Race/ethnicity unknown Men',\n",
       "       'Nonresident alien Men', 'Year Men'],\n",
       "      dtype='object')"
      ]
     },
     "execution_count": 10,
     "metadata": {},
     "output_type": "execute_result"
    }
   ],
   "source": [
    "men.columns"
   ]
  },
  {
   "cell_type": "code",
   "execution_count": 38,
   "metadata": {},
   "outputs": [
    {
     "name": "stderr",
     "output_type": "stream",
     "text": [
      "/var/folders/c4/qy50h61x069887_6qkp4f7880000gp/T/ipykernel_4817/752101445.py:1: DtypeWarning: Columns (7,11,14) have mixed types. Specify dtype option on import or set low_memory=False.\n",
      "  input = pd.read_csv('occ_race_df.csv', index_col=0)\n"
     ]
    }
   ],
   "source": [
    "input = pd.read_csv('occ_race_df.csv', index_col=0)\n",
    "\n",
    "# input.set_index('Unit Id', inplace=True)\n",
    "\n",
    "exclude_cols = ['Unit Id', 'Year']\n",
    "\n",
    "total = input[input['Gender']=='Total']\n",
    "total.columns = [('Grand Total %s'%col)  if col not in exclude_cols+['Total'] else col  for col in total.columns]\n",
    "\n",
    "men   = input[input['Gender']=='Men']\n",
    "men.columns = [('%s Men'%col)  if col not in exclude_cols else col for col in men.columns]\n",
    "\n",
    "women = input[input['Gender']=='Women']\n",
    "women.columns = [('%s Women'%col)  if col not in exclude_cols else col for col in women.columns]\n",
    "\n",
    "# merged1 = pd.merge(total, men, left_on=['Grand Total Unit Id', 'Grand Total Year'], right_on=['Unit Id Men', 'Year Men'])\n",
    "# merged = pd.merge(merged1, women, left_on=['Grand Total Unit Id', 'Grand Total Year'], right_on=['Unit Id Women', 'Year Women'])\n",
    "\n",
    "merged1 = pd.merge(total, men, left_on=['Unit Id', 'Year'], right_on=['Unit Id', 'Year'])\n",
    "merged = pd.merge(merged1, women, left_on=['Unit Id', 'Year'], right_on=['Unit Id', 'Year'])"
   ]
  },
  {
   "cell_type": "code",
   "execution_count": 11,
   "metadata": {},
   "outputs": [
    {
     "name": "stderr",
     "output_type": "stream",
     "text": [
      "/var/folders/c4/qy50h61x069887_6qkp4f7880000gp/T/ipykernel_4817/520678690.py:2: DtypeWarning: Columns (6,12) have mixed types. Specify dtype option on import or set low_memory=False.\n",
      "  out = pd.read_csv('occ_race_df_v2.csv')\n"
     ]
    }
   ],
   "source": [
    "import pandas as pd \n",
    "out = pd.read_csv('occ_race_df_v2.csv')"
   ]
  },
  {
   "cell_type": "code",
   "execution_count": 6,
   "metadata": {},
   "outputs": [],
   "source": [
    "merged.to_csv('occ_race_df_v2.csv')"
   ]
  }
 ],
 "metadata": {
  "kernelspec": {
   "display_name": "Python 3",
   "language": "python",
   "name": "python3"
  },
  "language_info": {
   "codemirror_mode": {
    "name": "ipython",
    "version": 3
   },
   "file_extension": ".py",
   "mimetype": "text/x-python",
   "name": "python",
   "nbconvert_exporter": "python",
   "pygments_lexer": "ipython3",
   "version": "3.12.0"
  }
 },
 "nbformat": 4,
 "nbformat_minor": 2
}
