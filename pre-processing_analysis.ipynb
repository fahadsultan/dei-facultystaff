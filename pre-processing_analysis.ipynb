{
 "cells": [
  {
   "cell_type": "code",
   "execution_count": 15,
   "metadata": {},
   "outputs": [],
   "source": [
    "import pandas as pd\n",
    "staff   = pd.read_csv('all_staff_inst.csv',index_col=0)\n",
    "stud    = pd.read_csv('all_student_inst.csv', index_col=0)\n",
    "staff['Grand total']      =staff['Grand total'].str.replace(',','')\n",
    "staff['Grand total women']=staff['Grand total women'].str.replace(',','')\n",
    "staff['Grand total']      =staff['Grand total'].astype(float)\n",
    "staff['Grand total women']=staff['Grand total women'].astype(float)\n",
    "\n",
    "\n",
    "tot = staff.groupby('Year')[[ 'Grand total','Black total','Hispanic total','Grand total women' ]].mean()\n",
    "tot['Black total']       = tot['Black total']/tot['Grand total']\n",
    "tot['Hispanic total']    = tot['Hispanic total']/tot['Grand total']\n",
    "tot['Grand total women'] = tot['Grand total women']/tot['Grand total']\n",
    "tot = tot.rename(columns={\"Black total\":\"black_staff_stat\",\\\n",
    "                          \"Hispanic total\":\"hispanic_staff_stat\",\\\n",
    "                            \"Grand total women\":\"women_staff_stat\"})\n",
    "\n",
    "stud.columns\n",
    "\n",
    "tos = stud.groupby('Year')[[ 'grand_total','black_total','hispanic_total','women_total', 'total_cs','black_cs','hispanic_cs','women_cs', ]].mean()\n",
    "tos['black_cs']           = tos['black_cs']/(tos['total_cs'])\n",
    "tos['hispanic_cs']        = tos['hispanic_cs']/tos['total_cs']\n",
    "tos['women_cs']           = tos['women_cs']/tos['total_cs']\n",
    "tos['black_total']       = (tos['grand_total']-tos['black_cs'])/tos['total_cs']\n",
    "tos['hispanic_total']    = (tos['grand_total']-tos['hispanic_cs'])/tos['total_cs']\n",
    "tos['women_total']       = (tos['grand_total']-tos['women_cs'])/tos['total_cs']\n",
    "tos\n",
    "\n",
    "\n",
    "joined = pd.merge(tot, tos, left_index=True, right_index=True)\n",
    "joined.to_csv('staff_stud_stats.csv')"
   ]
  }
 ],
 "metadata": {
  "kernelspec": {
   "display_name": "Python 3",
   "language": "python",
   "name": "python3"
  },
  "language_info": {
   "codemirror_mode": {
    "name": "ipython",
    "version": 3
   },
   "file_extension": ".py",
   "mimetype": "text/x-python",
   "name": "python",
   "nbconvert_exporter": "python",
   "pygments_lexer": "ipython3",
   "version": "3.12.0"
  }
 },
 "nbformat": 4,
 "nbformat_minor": 2
}
