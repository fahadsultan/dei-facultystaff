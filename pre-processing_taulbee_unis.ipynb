{
 "cells": [
  {
   "cell_type": "code",
   "execution_count": null,
   "metadata": {},
   "outputs": [],
   "source": [
    "import pandas as pd\n",
    "\n",
    "f = open('taulbee_unis.txt')\n",
    "lines = f.readlines() \n",
    "f.close()\n",
    "\n",
    "lines = set(lines)\n",
    "taulbee = [line.strip() for line in lines] # 516"
   ]
  },
  {
   "cell_type": "code",
   "execution_count": null,
   "metadata": {},
   "outputs": [],
   "source": [
    "taulbee.sort()\n",
    "df = [['university'],[taulbee]]\n",
    "f.write_through()"
   ]
  },
  {
   "cell_type": "code",
   "execution_count": null,
   "metadata": {},
   "outputs": [],
   "source": []
  },
  {
   "cell_type": "code",
   "execution_count": null,
   "metadata": {},
   "outputs": [],
   "source": [
    "import pandas\n",
    "df = pandas.DataFrame(data={\"names\": taulbee, \"names\": taulbee})\n",
    "df.to_csv(\"./unis.csv\", sep=',',index=False)\n",
    "f"
   ]
  },
  {
   "cell_type": "code",
   "execution_count": null,
   "metadata": {},
   "outputs": [],
   "source": [
    "csv = pd.read_csv('unis.csv')\n",
    "csv = csv.dropna()\n",
    "csv.to_csv('unis.csv')\n",
    "inst = pd.read_csv('all_staff_inst.csv')"
   ]
  },
  {
   "cell_type": "code",
   "execution_count": null,
   "metadata": {},
   "outputs": [],
   "source": [
    "unis = pd.read_csv('data/hd2020.csv', encoding='cp1252') # 6913\n",
    "inst[['Unit Id','INSTNM']].to_csv('ipeds_uni.csv')\n"
   ]
  },
  {
   "cell_type": "code",
   "execution_count": null,
   "metadata": {},
   "outputs": [],
   "source": [
    "ipeds =pd.read_csv('ipeds_uni.csv')\n",
    "ipeds"
   ]
  },
  {
   "cell_type": "code",
   "execution_count": null,
   "metadata": {},
   "outputs": [],
   "source": [
    "unis.head()"
   ]
  },
  {
   "cell_type": "code",
   "execution_count": null,
   "metadata": {},
   "outputs": [],
   "source": [
    "# unis['INSTNM'].apply(lambda x: x.split(' ')[0] in taulbee)"
   ]
  },
  {
   "cell_type": "code",
   "execution_count": null,
   "metadata": {},
   "outputs": [],
   "source": [
    "unis[unis['INSTNM'].apply(lambda x: x.startswith('Arizona'))]"
   ]
  },
  {
   "cell_type": "code",
   "execution_count": null,
   "metadata": {},
   "outputs": [],
   "source": [
    "pd.Series(taulbee).sort_values()[:20]"
   ]
  },
  {
   "cell_type": "code",
   "execution_count": null,
   "metadata": {},
   "outputs": [],
   "source": [
    "iped_unis = list(unis['INSTNM'].unique())\n",
    "\n",
    "i = 0 \n",
    "for uni in iped_unis: \n",
    "    if uni in taulbee:\n",
    "        print(uni)\n",
    "        i += 1\n",
    "\n"
   ]
  }
 ],
 "metadata": {
  "kernelspec": {
   "display_name": "Python 3",
   "language": "python",
   "name": "python3"
  },
  "language_info": {
   "codemirror_mode": {
    "name": "ipython",
    "version": 3
   },
   "file_extension": ".py",
   "mimetype": "text/x-python",
   "name": "python",
   "nbconvert_exporter": "python",
   "pygments_lexer": "ipython3",
   "version": "3.12.0"
  }
 },
 "nbformat": 4,
 "nbformat_minor": 2
}
